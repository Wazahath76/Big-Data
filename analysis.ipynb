{
 "cells": [
  {
   "cell_type": "code",
   "execution_count": 1,
   "metadata": {},
   "outputs": [
    {
     "data": {
      "text/html": [
       "<div>\n",
       "<style scoped>\n",
       "    .dataframe tbody tr th:only-of-type {\n",
       "        vertical-align: middle;\n",
       "    }\n",
       "\n",
       "    .dataframe tbody tr th {\n",
       "        vertical-align: top;\n",
       "    }\n",
       "\n",
       "    .dataframe thead th {\n",
       "        text-align: right;\n",
       "    }\n",
       "</style>\n",
       "<table border=\"1\" class=\"dataframe\">\n",
       "  <thead>\n",
       "    <tr style=\"text-align: right;\">\n",
       "      <th></th>\n",
       "      <th>task_id</th>\n",
       "      <th>job_id</th>\n",
       "      <th>worker_id</th>\n",
       "      <th>status</th>\n",
       "      <th>time</th>\n",
       "    </tr>\n",
       "  </thead>\n",
       "  <tbody>\n",
       "    <tr>\n",
       "      <th>0</th>\n",
       "      <td>0_M0</td>\n",
       "      <td>0</td>\n",
       "      <td>1</td>\n",
       "      <td>initiating</td>\n",
       "      <td>1.607587e+09</td>\n",
       "    </tr>\n",
       "    <tr>\n",
       "      <th>1</th>\n",
       "      <td>0_M0</td>\n",
       "      <td>0</td>\n",
       "      <td>1</td>\n",
       "      <td>finished</td>\n",
       "      <td>1.607587e+09</td>\n",
       "    </tr>\n",
       "    <tr>\n",
       "      <th>2</th>\n",
       "      <td>0_R0</td>\n",
       "      <td>0</td>\n",
       "      <td>2</td>\n",
       "      <td>initiating</td>\n",
       "      <td>1.607587e+09</td>\n",
       "    </tr>\n",
       "    <tr>\n",
       "      <th>3</th>\n",
       "      <td>0_R1</td>\n",
       "      <td>0</td>\n",
       "      <td>3</td>\n",
       "      <td>initiating</td>\n",
       "      <td>1.607587e+09</td>\n",
       "    </tr>\n",
       "    <tr>\n",
       "      <th>4</th>\n",
       "      <td>1_M0</td>\n",
       "      <td>1</td>\n",
       "      <td>1</td>\n",
       "      <td>initiating</td>\n",
       "      <td>1.607587e+09</td>\n",
       "    </tr>\n",
       "  </tbody>\n",
       "</table>\n",
       "</div>"
      ],
      "text/plain": [
       "  task_id  job_id  worker_id      status          time\n",
       "0    0_M0       0          1  initiating  1.607587e+09\n",
       "1    0_M0       0          1    finished  1.607587e+09\n",
       "2    0_R0       0          2  initiating  1.607587e+09\n",
       "3    0_R1       0          3  initiating  1.607587e+09\n",
       "4    1_M0       1          1  initiating  1.607587e+09"
      ]
     },
     "execution_count": 1,
     "metadata": {},
     "output_type": "execute_result"
    }
   ],
   "source": [
    "import pandas as pd\n",
    "import numpy as np\n",
    "import matplotlib.pyplot as mat\n",
    "import sys\n",
    "import time\n",
    "from datetime import datetime\n",
    "\n",
    "\n",
    "df= pd.read_csv(\"log.csv\")\n",
    "#print(df.head())\n",
    "\n",
    "df.head()\n",
    "\n",
    "#end_time = df[df[\"status\"]==\"finished\"]\n"
   ]
  },
  {
   "cell_type": "code",
   "execution_count": 2,
   "metadata": {},
   "outputs": [],
   "source": [
    "a = df.task_id.unique()\n",
    "b = df.job_id.unique()"
   ]
  },
  {
   "cell_type": "code",
   "execution_count": 3,
   "metadata": {},
   "outputs": [],
   "source": [
    "t_list=[]\n",
    "j_id=[]\n",
    "w_id=[]\n",
    "for i in a:\n",
    "    temp = df[df[\"task_id\"]==i].values\n",
    "    t_list.append(temp[1][-1]-temp[0][-1])\n",
    "    w_id.append(int(temp[0][-3]))\n",
    "    j_id.append(int(temp[0][2]))\n",
    "j_list=[]\n",
    "for i in b:\n",
    "    temp=df[df[\"job_id\"]==i].values\n",
    "    j_list.append(temp[1][-1]-temp[0][-1])\n"
   ]
  },
  {
   "cell_type": "code",
   "execution_count": 4,
   "metadata": {},
   "outputs": [
    {
     "name": "stdout",
     "output_type": "stream",
     "text": [
      "mean time of task: 2.5133845680638363\n",
      "median time of task: 2.0720608234405518\n",
      "mean time of job: 1.2129449844360352\n",
      "median time of job: 0.00044226646423339844\n"
     ]
    }
   ],
   "source": [
    "t_mean=np.array(t_list).mean()\n",
    "print(\"mean time of task:\",t_mean)\n",
    "t_median=np.median(np.array(t_list))\n",
    "print(\"median time of task:\",t_median)\n",
    "j_mean=np.array(j_list).mean()\n",
    "print(\"mean time of job:\",j_mean)\n",
    "j_median=np.median(np.array(j_list))\n",
    "print(\"median time of job:\",j_median)"
   ]
  },
  {
   "cell_type": "code",
   "execution_count": 6,
   "metadata": {},
   "outputs": [
    {
     "data": {
      "text/plain": [
       "<AxesSubplot:>"
      ]
     },
     "execution_count": 6,
     "metadata": {},
     "output_type": "execute_result"
    },
    {
     "data": {
      "image/png": "[encoded data removed]",
      "text/plain": [
       "<Figure size 432x288 with 1 Axes>"
      ]
     },
     "metadata": {
      "needs_background": "light"
     },
     "output_type": "display_data"
    }
   ],
   "source": [
    "df1 = df[df[\"status\"]==\"initiating\"]\n",
    "df1=df1.drop(columns=['time'])\n",
    "df1.plot.bar(stacked=True)\n",
    "\n",
    "\n",
    "    \n",
    "#random\n",
    "\n",
    "#df['time'] = pd.to_datetime(df['time'])\n",
    "#df.plot.bar(x=\"task_id\",y=\"time\")\n"
   ]
  },
  {
   "cell_type": "code",
   "execution_count": null,
   "metadata": {},
   "outputs": [],
   "source": []
  }
 ],
 "metadata": {
  "kernelspec": {
   "display_name": "Python 3",
   "language": "python",
   "name": "python3"
  },
  "language_info": {
   "codemirror_mode": {
    "name": "ipython",
    "version": 3
   },
   "file_extension": ".py",
   "mimetype": "text/x-python",
   "name": "python",
   "nbconvert_exporter": "python",
   "pygments_lexer": "ipython3",
   "version": "3.8.5"
  }
 },
 "nbformat": 4,
 "nbformat_minor": 4
}
